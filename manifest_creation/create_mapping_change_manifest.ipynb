{
 "cells": [
  {
   "cell_type": "markdown",
   "metadata": {},
   "source": [
    "# Subject Manifest for Mapping Change\n",
    "\n",
    "This script creates a Zooniverse subject manifest for the Mapping Change project. To run this script you will need two spreadsheets from the Bell Mapping Change team: csv of urls, csv of metadata. This script joins these spreadsheets on the _occid_ field. After joining these scripts and replacing \\_lg with \\_md in the urls, the script generates a new Zooniverse manifest csv. \n",
    "\n",
    "Inputs:\n",
    "1. urls csv\n",
    "2. metadata csv\n",
    "\n",
    "Outputs:\n",
    "1. mainfest.csv"
   ]
  },
  {
   "cell_type": "code",
   "execution_count": 1,
   "metadata": {},
   "outputs": [],
   "source": [
    "import pandas as pd"
   ]
  },
  {
   "cell_type": "code",
   "execution_count": 2,
   "metadata": {},
   "outputs": [],
   "source": [
    "file_path_to_csv_of_urls = ''\n",
    "file_path_to_csv_of_metadata = ''\n",
    "file_path_to_new_manifest = ''\n",
    "origin_string = 'Bell Museum of Natural History University of Minnesota'"
   ]
  },
  {
   "cell_type": "code",
   "execution_count": 3,
   "metadata": {},
   "outputs": [],
   "source": [
    "urls = pd.read_csv(file_path_to_csv_of_urls)\n",
    "metadata = pd.read_csv(file_path_to_csv_of_metadata)\n",
    "merged_resources_df = metadata.merge(urls, left_on='occid', right_on='Symbota_occid')"
   ]
  },
  {
   "cell_type": "code",
   "execution_count": 4,
   "metadata": {},
   "outputs": [],
   "source": [
    "pruned_data_frame = merged_resources_df[['occid', 'otherCatalogNumbers', 'URL']]"
   ]
  },
  {
   "cell_type": "code",
   "execution_count": 5,
   "metadata": {},
   "outputs": [],
   "source": [
    "modified_urls = pruned_data_frame.replace(to_replace=r'_lg.jpg', value='_md.jpg', regex=True)"
   ]
  },
  {
   "cell_type": "code",
   "execution_count": 6,
   "metadata": {},
   "outputs": [],
   "source": [
    "correct_column_names = modified_urls.rename(columns={\"otherCatalogNumbers\": \"barcode\", \"URL\": \"#url\"})"
   ]
  },
  {
   "cell_type": "code",
   "execution_count": 7,
   "metadata": {},
   "outputs": [],
   "source": [
    "correct_column_names['origin'] = origin_string\n",
    "correct_column_names['license'] = 'license: CC0 1.0 Public-domain'"
   ]
  },
  {
   "cell_type": "code",
   "execution_count": 8,
   "metadata": {},
   "outputs": [],
   "source": [
    "manifest_format = correct_column_names[['barcode', 'origin', 'license', '#url']]"
   ]
  },
  {
   "cell_type": "code",
   "execution_count": 9,
   "metadata": {},
   "outputs": [],
   "source": [
    "manifest_format.to_csv(file_path_to_new_manifest, index=False)"
   ]
  }
 ],
 "metadata": {
  "kernelspec": {
   "display_name": "Python 3",
   "language": "python",
   "name": "python3"
  },
  "language_info": {
   "codemirror_mode": {
    "name": "ipython",
    "version": 3
   },
   "file_extension": ".py",
   "mimetype": "text/x-python",
   "name": "python",
   "nbconvert_exporter": "python",
   "pygments_lexer": "ipython3",
   "version": "3.7.3"
  }
 },
 "nbformat": 4,
 "nbformat_minor": 2
}
